{
 "cells": [
  {
   "cell_type": "code",
   "execution_count": 65,
   "metadata": {},
   "outputs": [],
   "source": [
    "import torch.nn as nn\n",
    "from torch.nn import functional as F"
   ]
  },
  {
   "cell_type": "code",
   "execution_count": 116,
   "metadata": {},
   "outputs": [],
   "source": [
    "learning_rate = 2e-4\n",
    "max_iters = 50000"
   ]
  },
  {
   "cell_type": "code",
   "execution_count": 102,
   "metadata": {},
   "outputs": [
    {
     "name": "stdout",
     "output_type": "stream",
     "text": [
      "GPUs are available.\n",
      "Number of GPUs: 1\n",
      "Device is set to: cuda\n",
      "GPU 0: NVIDIA GeForce RTX 4070\n"
     ]
    }
   ],
   "source": [
    "import torch\n",
    "\n",
    "def check_gpu():\n",
    "    if torch.cuda.is_available():\n",
    "        device = 'cuda'\n",
    "        print(\"GPUs are available.\")\n",
    "        print(f\"Number of GPUs: {torch.cuda.device_count()}\")\n",
    "        print(f\"Device is set to: {device}\")\n",
    "        for i in range(torch.cuda.device_count()):\n",
    "            print(f\"GPU {i}: {torch.cuda.get_device_name(i)}\")\n",
    "    else:\n",
    "        print(\"No GPUs available.\")\n",
    "        device = 'cpu'\n",
    "        print(f\"Device is set to: {device}\")\n",
    "    return device\n",
    "\n",
    "device = check_gpu()\n"
   ]
  },
  {
   "cell_type": "code",
   "execution_count": 103,
   "metadata": {},
   "outputs": [],
   "source": [
    "block_size = 800\n",
    "batch_size = 400"
   ]
  },
  {
   "cell_type": "code",
   "execution_count": 104,
   "metadata": {},
   "outputs": [
    {
     "name": "stdout",
     "output_type": "stream",
     "text": [
      "['\\n', ' ', '!', '\"', '$', '%', '&', \"'\", '(', ')', '*', ',', '-', '.', '/', '0', '1', '2', '3', '4', '5', '6', '7', '8', '9', ':', ';', '?', 'A', 'B', 'C', 'D', 'E', 'F', 'G', 'H', 'I', 'J', 'K', 'L', 'M', 'N', 'O', 'P', 'Q', 'R', 'S', 'T', 'U', 'V', 'W', 'X', 'Y', 'Z', '[', ']', '_', 'a', 'b', 'c', 'd', 'e', 'f', 'g', 'h', 'i', 'j', 'k', 'l', 'm', 'n', 'o', 'p', 'q', 'r', 's', 't', 'u', 'v', 'w', 'x', 'y', 'z', '¹', '‒', '—', '―', '‘', '’', '“', '”', '•', '™', '♠', '♦', '\\ufeff']\n",
      "96\n"
     ]
    }
   ],
   "source": [
    "with open('wizard_of_oz.txt', 'r' , encoding='utf-8') as f:\n",
    "    text= f.read()\n",
    "chars = sorted(set(text))\n",
    "print(chars)\n",
    "vocab_size = len(chars)\n",
    "print(vocab_size)"
   ]
  },
  {
   "cell_type": "code",
   "execution_count": 105,
   "metadata": {},
   "outputs": [],
   "source": [
    "string_to_int = { ch:i for i ,ch in enumerate(chars) }\n",
    "int_to_string = { i:ch for i ,ch in enumerate(chars) }\n",
    "encode = lambda s: [string_to_int[c] for c in s]\n",
    "decode = lambda l: ''.join([int_to_string[i] for i in l])"
   ]
  },
  {
   "cell_type": "code",
   "execution_count": 106,
   "metadata": {},
   "outputs": [
    {
     "name": "stdout",
     "output_type": "stream",
     "text": [
      "hello\n"
     ]
    }
   ],
   "source": [
    "print(decode(encode('hello')))"
   ]
  },
  {
   "cell_type": "code",
   "execution_count": 107,
   "metadata": {},
   "outputs": [],
   "source": [
    "data = torch.tensor(encode(text), dtype = torch.long)"
   ]
  },
  {
   "cell_type": "code",
   "execution_count": 108,
   "metadata": {},
   "outputs": [
    {
     "name": "stdout",
     "output_type": "stream",
     "text": [
      "tensor([95, 31, 42, 45, 42, 47, 35, 52,  1, 28, 41, 31,  1, 47, 35, 32,  1, 50,\n",
      "        36, 53, 28, 45, 31,  1, 36, 41,  1, 42, 53,  0,  0,  1,  1, 29, 52,  0,\n",
      "         0,  1,  1, 39, 13,  1, 33, 45, 28, 41, 38,  1, 29, 28, 48, 40,  0,  0,\n",
      "         1,  1, 28, 48, 47, 35, 42, 45,  1, 42, 33,  1, 47, 35, 32,  1, 50, 36,\n",
      "        53, 28, 45, 31,  1, 42, 33,  1, 42, 53, 11,  1, 47, 35, 32,  1, 39, 28,\n",
      "        41, 31,  1, 42, 33,  1, 42, 53, 11,  1])\n"
     ]
    }
   ],
   "source": [
    "print(data[:100])"
   ]
  },
  {
   "cell_type": "code",
   "execution_count": 109,
   "metadata": {},
   "outputs": [],
   "source": [
    "n = int(0.8 * len(data))\n",
    "train_data = data[:n] \n",
    "val_data = data[n:] \n",
    "\n",
    "\n",
    "def get_batch(split):\n",
    "    data = train_data if split == 'train' else val_data\n",
    "    ix = torch.randint(len(data) - block_size, (batch_size,))\n",
    "    # print(ix)\n",
    "    x = torch.stack([data[i:i+block_size]for i in ix])\n",
    "    y = torch.stack([data[i+1:i+block_size+1]for i in ix])\n",
    "    return x, y    "
   ]
  },
  {
   "cell_type": "code",
   "execution_count": 110,
   "metadata": {},
   "outputs": [
    {
     "name": "stdout",
     "output_type": "stream",
     "text": [
      "tensor([[64, 61,  1,  ..., 61, 70, 61],\n",
      "        [ 1, 58, 61,  ..., 76, 64, 61],\n",
      "        [58, 76,  1,  ...,  1, 39, 71],\n",
      "        ...,\n",
      "        [57, 59, 64,  ..., 71, 74, 60],\n",
      "        [77, 72,  1,  ..., 71,  1, 64],\n",
      "        [75, 64, 61,  ..., 70, 80, 65]])\n",
      "tensor([[61,  1, 74,  ..., 70, 61, 69],\n",
      "        [58, 61, 62,  ..., 64, 61,  1],\n",
      "        [76,  1, 71,  ..., 39, 71, 74],\n",
      "        ...,\n",
      "        [59, 64, 65,  ..., 74, 60, 11],\n",
      "        [72,  1, 76,  ...,  1, 64, 57],\n",
      "        [64, 61,  1,  ..., 80, 65, 71]])\n"
     ]
    }
   ],
   "source": [
    "x,y = get_batch('train')\n",
    "print(x)\n",
    "print(y)"
   ]
  },
  {
   "cell_type": "code",
   "execution_count": 111,
   "metadata": {},
   "outputs": [
    {
     "name": "stdout",
     "output_type": "stream",
     "text": [
      "when input is tensor([95]) target is tensor(95)\n",
      "when input is tensor([95, 31]) target is tensor(31)\n",
      "when input is tensor([95, 31, 42]) target is tensor(42)\n",
      "when input is tensor([95, 31, 42, 45]) target is tensor(45)\n",
      "when input is tensor([95, 31, 42, 45, 42]) target is tensor(42)\n",
      "when input is tensor([95, 31, 42, 45, 42, 47]) target is tensor(47)\n",
      "when input is tensor([95, 31, 42, 45, 42, 47, 35]) target is tensor(35)\n",
      "when input is tensor([95, 31, 42, 45, 42, 47, 35, 52]) target is tensor(52)\n"
     ]
    }
   ],
   "source": [
    "block_size = 8 \n",
    "\n",
    "x = train_data[:block_size]\n",
    "y = train_data[1:block_size+1]\n",
    "\n",
    "for t in range(block_size):\n",
    "    context = x[:t+1]\n",
    "    target = x[t]\n",
    "    print('when input is', context, 'target is', target)"
   ]
  },
  {
   "cell_type": "code",
   "execution_count": 112,
   "metadata": {},
   "outputs": [
    {
     "name": "stdout",
     "output_type": "stream",
     "text": [
      "The shape of x is: torch.Size([400, 8])\n",
      "x is: tensor([[61,  0, 65,  ..., 74, 61, 68],\n",
      "        [61,  1, 68,  ...,  1, 71, 62],\n",
      "        [11,  1, 64,  ...,  1, 75, 71],\n",
      "        ...,\n",
      "        [57,  1, 63,  ..., 57, 76,  1],\n",
      "        [ 1, 61, 80,  ..., 72, 68, 57],\n",
      "        [75,  1, 57,  ..., 71,  1, 69]], device='cuda:0')\n",
      "\n",
      "The shape of y is: torch.Size([400, 8])\n",
      "y is: tensor([[ 0, 65, 70,  ..., 61, 68, 65],\n",
      "        [ 1, 68, 57,  ..., 71, 62,  1],\n",
      "        [ 1, 64, 65,  ..., 75, 71, 74],\n",
      "        ...,\n",
      "        [ 1, 63, 74,  ..., 76,  1, 79],\n",
      "        [61, 80, 61,  ..., 68, 57, 74],\n",
      "        [ 1, 57, 68,  ...,  1, 69, 81]], device='cuda:0')\n"
     ]
    }
   ],
   "source": [
    "x, y = get_batch('train')\n",
    "x,y = x.to(device) , y.to(device)\n",
    "print(f\"The shape of x is: {x.shape}\")\n",
    "print(f\"x is: {x}\",  end='\\n\\n')\n",
    "print(f\"The shape of y is: {y.shape}\")\n",
    "print(f\"y is: {y}\")"
   ]
  },
  {
   "cell_type": "code",
   "execution_count": 113,
   "metadata": {},
   "outputs": [
    {
     "name": "stdout",
     "output_type": "stream",
     "text": [
      "\n",
      "Y——k;•w™!-3H‘)s88d_]”l8♦0•c(NifuYjR—p4tK\n",
      "dm.“D56L64g;w/FD¹5YF$2TqWJ&)*\"_h9?,v1f]“:F3♦dxr―/:Y¹l].w0(E?™f16ngb.RenynsQlz\"\"Jj_59AG7Mo'♦qF,sh“?W:MHY!r•oQk6sW﻿NdYsBMP%]Yooqt:;uTe182I,jV%]Xuz!(bK/”Bl’28d-D66;h'•SSsguD5_58“J-/3-wAlHuDl’oght(%HcJ’4te1V_‘8Pa$Cw\"WO1L”(6Z“*uGO3jv—pqrf’dcU‒oghx.w$1”b/o1“$ p:CW-1:5,Zqy‘Qc7$I﻿q―;w$gZjaxg8tx¹!NP-:M• ”i[gf7X]﻿7bHlrLEZ/f!Y3”-R%N3!-3XmHfy?xg?0t♦J:mEX—(E3ON♦l4H&T,eHk9p﻿.hp―$0AxDMV—7X]/t%cu]tJ—o—qkV8nPn9h'jO0iM―j-r―r7rn\n",
      "LEtR“:Irn―D5%1(f/w;xEWOZs—EPh)9-“EKI﻿rf1:SbH,\n"
     ]
    }
   ],
   "source": [
    "class BigramLanguageModel(nn.Module):\n",
    "    def __init__(self, vocab_size):\n",
    "        super().__init__()\n",
    "        self.token_embedding_table = nn.Embedding(vocab_size,vocab_size)\n",
    "\n",
    "    def forward(self, index, targets=None):\n",
    "        # print(f\"index shape is {index.shape}\")\n",
    "        logits = self.token_embedding_table(index)\n",
    "        # print(f\"Logits shape is: {logits.shape}\")\n",
    "        if targets is None:\n",
    "            loss = None\n",
    "        else:\n",
    "            B, T, C = logits.shape\n",
    "            logits = logits.view(B*T, C)\n",
    "            # print(f\"Logits shape after reshape is: {logits.shape}\")\n",
    "            # print(f\"Targets shape is: {targets.shape}\")\n",
    "            targets = targets.view(B*T)\n",
    "            # print(f\"Targets shape after reshape is: {targets.shape}\")\n",
    "            loss = F.cross_entropy(logits, targets)\n",
    "        return logits, loss\n",
    "    \n",
    "    def generate(self, index, max_new_tokens):\n",
    "        for _ in range(max_new_tokens):\n",
    "            logits, loss = self.forward(index)\n",
    "            # print(f\"Logits shape is: {logits.shape}\")\n",
    "            logits = logits[:,-1,:]\n",
    "            # print(f\"Logits shape after reshape is: {logits.shape}\")\n",
    "            probs = F.softmax(logits, dim= -1)\n",
    "            # print(f\"Probs shape is: {probs.shape}\")\n",
    "            index_next = torch.multinomial(probs, num_samples=1)\n",
    "            # print(f\"Index next shape is: {index_next.shape}\")\n",
    "            index = torch.cat((index,index_next), dim=1)\n",
    "            # print(f\"Index shape is: {index.shape}\")\n",
    "        return index\n",
    "    \n",
    "model = BigramLanguageModel(vocab_size)\n",
    "m = model.to(device)\n",
    "\n",
    "context = torch.zeros((1,1), dtype=torch.long, device=device)\n",
    "generated_chars = decode(m.generate(context, max_new_tokens=500)[0].tolist())\n",
    "print(generated_chars)\n"
   ]
  },
  {
   "cell_type": "code",
   "execution_count": 117,
   "metadata": {},
   "outputs": [
    {
     "name": "stderr",
     "output_type": "stream",
     "text": [
      "100%|██████████| 50000/50000 [08:12<00:00, 101.60it/s]"
     ]
    },
    {
     "name": "stdout",
     "output_type": "stream",
     "text": [
      "2.4469997882843018\n"
     ]
    },
    {
     "name": "stderr",
     "output_type": "stream",
     "text": [
      "\n"
     ]
    }
   ],
   "source": [
    "from tqdm.auto import tqdm\n",
    "optimizer = torch.optim.AdamW(model.parameters(), lr=learning_rate)\n",
    "\n",
    "for iter in tqdm(range(max_iters)):\n",
    "\n",
    "    xb, yb = get_batch('train')\n",
    "\n",
    "    logits, loss = model.forward(xb.to(device), yb.to(device))\n",
    "    optimizer.zero_grad(set_to_none=True)\n",
    "    loss.backward()\n",
    "    optimizer.step()\n",
    "\n",
    "print(loss.item())"
   ]
  },
  {
   "cell_type": "code",
   "execution_count": 120,
   "metadata": {},
   "outputs": [
    {
     "name": "stdout",
     "output_type": "stream",
     "text": [
      "\n",
      "\n",
      "cure,\"Jiom\n",
      "\" hainy s, pleneritif w Ind my anghasoathis O widery ashomisitin ch. ttoprireedethicad thesthesh aro t thedrithaise l_Lof inonere stode keas He\n",
      "ng e ware ♠  wo ulte hatan d prs heas ch thesouns s Hime hyowoos n t  Buthes mpe. oy  5. t  an, pthiby he THatugagifupicaiked _.\n",
      "\"  he,\"I se s\n",
      "tod tl ong aro  abllilencapy:\n",
      "fret outh ofo  mana's me EThinotirnn aichese t Lo foave et fo htigathangd rd risse thevinsive _ owher I ss angn ad 127. ftte; bed Ofos\n",
      "to\n",
      "he ut'merged touanklye  fesigred,\n"
     ]
    }
   ],
   "source": [
    "context = torch.zeros((1,1), dtype=torch.long, device=device)\n",
    "generated_chars = decode(m.generate(context, max_new_tokens=500)[0].tolist())\n",
    "print(generated_chars)"
   ]
  }
 ],
 "metadata": {
  "kernelspec": {
   "display_name": "Python 3",
   "language": "python",
   "name": "python3"
  },
  "language_info": {
   "codemirror_mode": {
    "name": "ipython",
    "version": 3
   },
   "file_extension": ".py",
   "mimetype": "text/x-python",
   "name": "python",
   "nbconvert_exporter": "python",
   "pygments_lexer": "ipython3",
   "version": "3.12.3"
  }
 },
 "nbformat": 4,
 "nbformat_minor": 2
}
